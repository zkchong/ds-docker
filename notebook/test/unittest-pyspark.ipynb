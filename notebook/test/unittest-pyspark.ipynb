{
 "cells": [
  {
   "cell_type": "markdown",
   "metadata": {},
   "source": [
    "# Description\n",
    "\n",
    "Unit test pyspark."
   ]
  },
  {
   "cell_type": "markdown",
   "metadata": {},
   "source": [
    "# Unit Test"
   ]
  },
  {
   "cell_type": "code",
   "execution_count": 1,
   "metadata": {},
   "outputs": [],
   "source": [
    "from pyspark import SparkContext\n",
    "from pyspark.sql import SparkSession\n",
    "import pyspark.sql.functions as F\n",
    "import pyspark.sql.types as T\n",
    "from pyspark.sql import Window as W "
   ]
  },
  {
   "cell_type": "code",
   "execution_count": 2,
   "metadata": {},
   "outputs": [],
   "source": [
    "def init_spark():\n",
    "    ''' \n",
    "    Initiate spark with `spark = init_spark()`. Note that we only read from local s3fs. \n",
    "    '''\n",
    "    \n",
    "    spark_config = (SparkSession.builder\n",
    "                    .config('spark.master', 'local[6]') # Use 3 cores -- leave one core for others.\n",
    "                    .config('spark.driver.memory', '10g')\n",
    "                    .appName(\"Standard Pyspark\")\n",
    "                    )\n",
    "\n",
    "    # Create spark\n",
    "    spark = spark_config.getOrCreate()\n",
    "\n",
    "    # For better display of documentation\n",
    "    spark.conf.set('spark.sql.repl.eagerEval.enabled', True)\n",
    "    spark.conf.set('spark.sql.repl.eagerEval.truncate', -1)\n",
    "    spark.conf.set('spark.sql.repl.eagerEval.maxNumRows', 10)\n",
    "\n",
    "    return spark"
   ]
  },
  {
   "cell_type": "code",
   "execution_count": 3,
   "metadata": {},
   "outputs": [],
   "source": [
    "spark = init_spark()"
   ]
  },
  {
   "cell_type": "code",
   "execution_count": 4,
   "metadata": {},
   "outputs": [
    {
     "data": {
      "text/html": [
       "\n",
       "            <div>\n",
       "                <p><b>SparkSession - in-memory</b></p>\n",
       "                \n",
       "        <div>\n",
       "            <p><b>SparkContext</b></p>\n",
       "\n",
       "            <p><a href=\"http://d9b15139c96f:4040\">Spark UI</a></p>\n",
       "\n",
       "            <dl>\n",
       "              <dt>Version</dt>\n",
       "                <dd><code>v3.0.1</code></dd>\n",
       "              <dt>Master</dt>\n",
       "                <dd><code>local[6]</code></dd>\n",
       "              <dt>AppName</dt>\n",
       "                <dd><code>Standard Pyspark</code></dd>\n",
       "            </dl>\n",
       "        </div>\n",
       "        \n",
       "            </div>\n",
       "        "
      ],
      "text/plain": [
       "<pyspark.sql.session.SparkSession at 0x7fe01b074310>"
      ]
     },
     "execution_count": 4,
     "metadata": {},
     "output_type": "execute_result"
    }
   ],
   "source": [
    "spark"
   ]
  },
  {
   "cell_type": "code",
   "execution_count": 5,
   "metadata": {},
   "outputs": [],
   "source": [
    "data_path = '/home/ds_user/s3/adc-ds-data/fact_plain/boost/merchant/latest_data/merchant.parquet/part-00000-b875e077-9a22-4084-adb2-bf7347a3b61e-c000.snappy.parquet'\n"
   ]
  },
  {
   "cell_type": "code",
   "execution_count": 6,
   "metadata": {},
   "outputs": [],
   "source": [
    "data_sdf  = spark.read.parquet(data_path)"
   ]
  },
  {
   "cell_type": "code",
   "execution_count": 7,
   "metadata": {},
   "outputs": [
    {
     "data": {
      "text/html": [
       "<table border='1'>\n",
       "<tr><th>business_account_id</th><th>account_description</th><th>owner_contact_no</th><th>owner_email</th><th>owner_fullname</th><th>owner_id</th><th>owner_id_type</th><th>account_type</th><th>account_unique_name</th><th>business_address1</th><th>business_address2</th><th>business_city</th><th>business_country</th><th>business_postalcode</th><th>business_state</th><th>business_type</th><th>mailing_address1</th><th>mailing_address2</th><th>mailing_city</th><th>mailing_country</th><th>mailing_postalcode</th><th>mailing_state</th><th>mailing_type</th><th>bank_account_holder_name</th><th>bank_account_no</th><th>bank_settlement_id</th><th>bank_settlement_id_type</th><th>bank_swift_code</th><th>business_category_id</th><th>business_category_level</th><th>business_category_name</th><th>business_profile_id</th><th>created_by</th><th>date_created</th><th>modified_by</th><th>date_modified</th><th>merchant_category</th><th>merchant_id</th><th>original_merchant_id</th><th>identifier</th><th>q_registered_name</th><th>registered_id</th><th>registered_id_type</th><th>registered_name</th><th>status</th><th>trading_name</th><th>year_of_incoporation</th><th>ops_filename</th><th>ops_filename_date</th><th>ops_loaded_datetime</th><th>ops_type</th></tr>\n",
       "<tr><td>5cf0845db5618f4208d45ca4</td><td>null</td><td>60192628813</td><td>yaplipwei@gmail.com</td><td>Yap Lip Wei</td><td>831019145267</td><td>NEW_IC</td><td>MERCHANT</td><td>Yap Lip Wei</td><td>Grab Car @ Sepang</td><td>null</td><td>Sepang</td><td>Malaysia</td><td>64000</td><td>Selangor</td><td>BUSINESS</td><td>No 33 Jalan 1/4 46000 Petaling Jaya Selangor</td><td>null</td><td>Petaling Jaya</td><td>Malaysia</td><td>46000</td><td>Selangor</td><td>MAIL</td><td>Yap Lip Wei</td><td>11403500613574</td><td>831019145267</td><td>NEW_IC</td><td>RHBBMYKL</td><td>A1013</td><td>1</td><td>Services</td><td>5cf078c3b5618f4208d34ff0</td><td>Merchant Ops 6</td><td>2018-07-02 09:07:12</td><td>Merchant Ops 6</td><td>2018-07-02 09:07:12</td><td>INDIVIDUAL</td><td>16721</td><td>16721</td><td>MCM0024252</td><td>YAP LIP WEI</td><td>831019145267</td><td>NEW_IC</td><td>Yap Lip Wei</td><td>ACTIVE</td><td>WC8568F</td><td>2018</td><td>20210208_merchant</td><td>20210208</td><td>2021-02-09 02:00:58</td><td>others</td></tr>\n",
       "<tr><td>5f4717865dc10c00017384de</td><td>null</td><td>60123037242</td><td>luckygirl_8383@yahoo.com</td><td>KRISHNA KUMARI A/P KRISHNAN</td><td>830103045248</td><td>NEW_IC</td><td>MERCHANT</td><td>KRISHNA KUMARI A/P KRISHNAN</td><td>CHENG GARDEN AVENUE FOOD CENTRE JALAN SERI 7, CHENG</td><td>null</td><td>MELAKA</td><td>MY</td><td>75260</td><td>Melaka</td><td>BUSINESS</td><td>NO.4, JALAN MURNI 17 TAMAN MALIM JAYA</td><td>null</td><td>MELAKA</td><td>MY</td><td>75250</td><td>Melaka</td><td>MAIL</td><td>KRISHNA KUMARI A/P KRISHNAN</td><td>154062710275</td><td>830103045248</td><td>NEW_IC</td><td>MBBEMYKL</td><td>A2028</td><td>1.0</td><td>Food &amp; Beverage</td><td>5f471705f412b20001e95198</td><td>firdausnasha</td><td>2020-08-27 02:16:38</td><td>firdausnasha</td><td>2020-08-27 02:16:38</td><td>INDIVIDUAL</td><td>99937</td><td>99937</td><td>MCM0107466</td><td>KRISHNA KUMARI A/P KRISHNAN</td><td>830103045248</td><td>NEW_IC</td><td>KRISHNA KUMARI A/P KRISHNAN</td><td>ACTIVE</td><td>NASI LEMAK KUKUS BERLAUK</td><td>2015</td><td>20210208_merchant</td><td>20210208</td><td>2021-02-09 02:00:58</td><td>others</td></tr>\n",
       "<tr><td>5cf08467b5618f4208d46227</td><td>null</td><td>6017374165</td><td>Awsrafarwen@gmail.com</td><td>MOHD KHAREY BIN NOOH</td><td>740317125359</td><td>NEW_IC</td><td>MERCHANT</td><td>MOHD KHAREY BIN NOOH</td><td>JALAN ILHAM U2/14 SEKSYEN U2 TAMAN TTDI JAYA</td><td>null</td><td>Shah Alam</td><td>Malaysia</td><td>40150</td><td>Selangor</td><td>BUSINESS</td><td>5D-01-35 JALAN ILHAM U2/14 SEKSYEN U2 TAMAN TTDI JAYA</td><td>null</td><td>Shah Alam</td><td>Malaysia</td><td>40150</td><td>Selangor</td><td>MAIL</td><td>MOHD KHAREY BIN NOOH</td><td>162478353117</td><td>740317125359</td><td>NEW_IC</td><td>MBBEMYKL</td><td>A1001</td><td>1</td><td>Food &amp; Beverage</td><td>5cf078ceb5618f4208d35806</td><td>Merchant Ops 1</td><td>2018-07-24 09:07:22</td><td>Merchant Ops 1</td><td>2018-07-24 09:07:22</td><td>INDIVIDUAL</td><td>18812</td><td>18812</td><td>MCM0026343</td><td>MOHD KHAREY BIN NOOH</td><td>740317125359</td><td>NEW_IC</td><td>MOHD KHAREY BIN NOOH</td><td>ACTIVE</td><td>NASI AYAM PENYET DAN BAKSO</td><td>2018</td><td>20210208_merchant</td><td>20210208</td><td>2021-02-09 02:00:58</td><td>others</td></tr>\n",
       "<tr><td>5cf083dab5618f4208d3cba5</td><td>14/12/2018 - inactive due unreachable, need merchant to provide new account details. as current bank account is closed.</td><td>60146667999</td><td>uro2m.md@gmail.com</td><td>MAS HAMDY BIN RAZALAN</td><td>null</td><td>null</td><td>MERCHANT</td><td>MHS SIZZLING RESOURCES</td><td>NO 1-16 TINGKAT BAWAH RESIDENSI UTM KL, JALAN MAKTAB 54000 KUALA</td><td>null</td><td>KUALA LUMPUR</td><td>Malaysia</td><td>54000</td><td>Wilayah Persekutuan</td><td>BUSINESS</td><td>NO 15 JALAN TP7/B TAMAN PERINDUSTRIAN UEP 47620 SUBANG JAYA</td><td>null</td><td>SUBANG JAYA</td><td>Malaysia</td><td>47620</td><td>Selangor</td><td>MAIL</td><td>MHS SIZZLING RESOURCES</td><td>8603041669</td><td>SA0430084T</td><td>BRN</td><td>CIBBMYKL</td><td>A1001</td><td>1</td><td>Food &amp; Beverage</td><td>5cf07880b5618f4208d3182e</td><td>null</td><td>2017-11-30 03:11:08</td><td>null</td><td>2018-12-15 05:12:18</td><td>RETAIL</td><td>2400</td><td>2400</td><td>MCM0009931</td><td>MHS SIZZLING RESOURCES</td><td>SA0430084T</td><td>BRN</td><td>MHS SIZZLING RESOURCES</td><td>INACTIVE</td><td>MHS SIZZLING RESOURCES</td><td>2016</td><td>20210208_merchant</td><td>20210208</td><td>2021-02-09 02:00:58</td><td>others</td></tr>\n",
       "<tr><td>5cfaf88b0b85a05d89d350b6</td><td>null</td><td>60192469717</td><td>esthertfl@gmail.com</td><td>TAI PIANG SIN</td><td>null</td><td>null</td><td>MERCHANT</td><td>TPS AUTO ACCESSORIES &amp; AIRCOND SERVICE</td><td>NO.561,JALAN IDAMAN 1,</td><td>TAMAN DESA IDAMAN</td><td>DURIAN TUNGGAL</td><td>Malaysia</td><td>76100</td><td>Melaka</td><td>BUSINESS</td><td>NO.561,JALAN IDAMAN 1,</td><td>TAMAN DESA IDAMAN</td><td>DURIAN TUNGGAL</td><td>Malaysia</td><td>76100</td><td>Melaka</td><td>MAIL</td><td>TPS AUTO ACCESSORIES &amp; AIRCOND</td><td>504124123080</td><td>MA0169362W</td><td>BRN</td><td>MBBEMYKL</td><td>A2008</td><td>1.0</td><td>Automotive</td><td>5cfaf2220b85a05d89d34f08</td><td>Sundravarthan Muniandi</td><td>2019-06-03 02:06:41</td><td>dyleah</td><td>2020-10-21 03:32:03</td><td>RETAIL</td><td>48467</td><td>48467</td><td>MCM0055998</td><td>TPS AUTO ACCESSORIES &amp; AIRCOND SERVICE</td><td>MA0169362W</td><td>BRN</td><td>TPS AUTO ACCESSORIES &amp; AIRCOND SERVICE</td><td>ACTIVE</td><td>TPS AUTO ACCESSORIES &amp; AIRCOND SERVICE</td><td>2012</td><td>20210208_merchant</td><td>20210208</td><td>2021-02-09 02:00:58</td><td>others</td></tr>\n",
       "<tr><td>5e708d4bcde0a700015b9cd0</td><td>null</td><td>601125485006</td><td>tsauto28@yahoo.com</td><td>NG KIM LENG</td><td>701018065139</td><td>NEW_IC</td><td>MERCHANT</td><td>TECK SEONG AUTO TRADING SDN. BHD.</td><td>LOT 308-311,JALAN DATO NGAU KEN LOCK</td><td>null</td><td>TEMERLOH</td><td>MY</td><td>28000</td><td>Pahang</td><td>BUSINESS</td><td>LOT 308-311,JALAN DATO NGAU KEN LOCK</td><td>null</td><td>TEMERLOH</td><td>MY</td><td>28000</td><td>Pahang</td><td>MAIL</td><td>TECK SEONG AUTO TRADING SDN. BHD.</td><td>556057502862</td><td>940871W</td><td>CRN</td><td>MBBEMYKL</td><td>A2008</td><td>1.0</td><td>Automotive</td><td>5e708d0b607d9f00010e7eaf</td><td>nurindalilah</td><td>2020-03-17 08:41:47</td><td>danielahmad</td><td>2020-06-25 09:43:50</td><td>RETAIL</td><td>78737</td><td>78737</td><td>MCM0086266</td><td>TECK SEONG AUTO TRADING SDN. BHD.</td><td>940871W</td><td>CRN</td><td>TECK SEONG AUTO TRADING SDN. BHD.</td><td>ACTIVE</td><td>TECK SEONG AUTO TRADING SDN. BHD.</td><td>2011</td><td>20210208_merchant</td><td>20210208</td><td>2021-02-09 02:00:58</td><td>sdn_bhd</td></tr>\n",
       "<tr><td>5cf083dbb5618f4208d3d3c8</td><td>null</td><td>60167710518</td><td>tongjun531@gmail.com</td><td>Beh Cheng Huat</td><td>null</td><td>null</td><td>MERCHANT</td><td>Hup Choon Sports</td><td>737, Jalan Kulim,</td><td>null</td><td>Bukit Mertajam</td><td>Malaysia</td><td>14000</td><td>Pulau Pinang</td><td>BUSINESS</td><td>737, Jalan Kulim,</td><td>null</td><td>Bukit Mertajam</td><td>Malaysia</td><td>14000</td><td>Pulau Pinang</td><td>MAIL</td><td>Hup Choon Sports</td><td>3109486229</td><td>PG0154028D</td><td>BRN</td><td>PBBEMYKL</td><td>A1010</td><td>1</td><td>Others</td><td>5cf07890b5618f4208d33202</td><td>Merchant Ops 5</td><td>2018-04-05 08:04:25</td><td>Merchant Ops 5</td><td>2018-04-05 08:04:25</td><td>RETAIL</td><td>9023</td><td>9023</td><td>MCM0016554</td><td>HUP CHOON SPORTS</td><td>PG0154028D</td><td>BRN</td><td>Hup Choon Sports</td><td>ACTIVE</td><td>Hup Choon Sports</td><td>1992</td><td>20210208_merchant</td><td>20210208</td><td>2021-02-09 02:00:58</td><td>others</td></tr>\n",
       "<tr><td>5f3faab3ba11df000157a6f6</td><td>null</td><td>60126299808</td><td>waikwanenterprise@gmail.com</td><td>CHOO KA WAI</td><td>930325105881</td><td>NEW_IC</td><td>MERCHANT</td><td>WAI KWAN ENTERPRISE Locked control</td><td>NO. 2, JALAN BAWAL 7, TAMAN MUTIARA</td><td>null</td><td>TANJONG SEPAT</td><td>MY</td><td>42800</td><td>Selangor</td><td>BUSINESS</td><td>NO. 2, JALAN BAWAL 7, TAMAN MUTIARA</td><td>null</td><td>TANJONG SEPAT</td><td>MY</td><td>42800</td><td>Selangor</td><td>MAIL</td><td>WAI KWAN ENTERPRISE</td><td>514178638933</td><td>002353197V</td><td>BRN</td><td>MBBEMYKL</td><td>A2012</td><td>1.0</td><td>Buying/Retail Trade</td><td>5f3faa46a7be010001999911</td><td>bazil</td><td>2020-08-21 11:06:27</td><td>bazil</td><td>2020-08-21 11:10:08</td><td>RETAIL</td><td>98750</td><td>98750</td><td>MCM0106279</td><td>WAI KWAN ENTERPRISE</td><td>002353197V</td><td>BRN</td><td>WAI KWAN ENTERPRISE</td><td>ACTIVE</td><td>WAI KWAN ENTERPRISE</td><td>2014</td><td>20210208_merchant</td><td>20210208</td><td>2021-02-09 02:00:58</td><td>others</td></tr>\n",
       "<tr><td>5f290619e196980001f893c4</td><td>null</td><td>60176239109</td><td>farmasiubatku@gmail.com</td><td>NURUL SYAMIMI BINTI SAHAROM</td><td>930312065606</td><td>NEW_IC</td><td>MERCHANT</td><td>SAMILIN ENTERPRISE</td><td>NO 9 JALAN CENGAL 2, TAMAN CENGAL</td><td>null</td><td>TEMERLOH</td><td>MY</td><td>28000</td><td>Pahang</td><td>BUSINESS</td><td>NO 9 JALAN CENGAL 2, TAMAN CENGAL</td><td>null</td><td>TEMERLOH</td><td>MY</td><td>28000</td><td>Pahang</td><td>MAIL</td><td>SAMILIN ENTERPRISE</td><td>06028010070289</td><td>CT0071290M</td><td>BRN</td><td>BIMBMYKL</td><td>A2012</td><td>1.0</td><td>Buying/Retail Trade</td><td>5f2905cc3f54770001652c98</td><td>allyanaziruddin</td><td>2020-08-04 06:54:17</td><td>allyanaziruddin</td><td>2020-08-04 06:54:43</td><td>RETAIL</td><td>95332</td><td>95332</td><td>MCM0102861</td><td>SAMILIN ENTERPRISE</td><td>CT0071290M</td><td>BRN</td><td>SAMILIN ENTERPRISE</td><td>ACTIVE</td><td>FARMASI UBATKU</td><td>2020</td><td>20210208_merchant</td><td>20210208</td><td>2021-02-09 02:00:58</td><td>others</td></tr>\n",
       "<tr><td>5cf08405b5618f4208d3fe72</td><td>null</td><td>60163333970</td><td>elvisinlove@hotmail.com</td><td>TEH YEW FEI</td><td>null</td><td>null</td><td>MERCHANT</td><td>ELVIS BENTO CAFE</td><td>PT NO. 140515</td><td>MUKIM HULU KINTA</td><td>IPOH</td><td>Malaysia</td><td>31650</td><td>Perak</td><td>BUSINESS</td><td>PT NO. 140515</td><td>MUKIM HULU KINTA</td><td>IPOH</td><td>Malaysia</td><td>31650</td><td>Perak</td><td>MAIL</td><td>ELVIS BENTO CAFE</td><td>508038615289</td><td>IP0500615K</td><td>BRN</td><td>MBBEMYKL</td><td>A2028</td><td>1.0</td><td>Food &amp; Beverage</td><td>5cf07994b5618f4208d38d94</td><td>Merchant Ops 1</td><td>2018-12-04 04:12:34</td><td>firdausnasha</td><td>2020-10-27 02:26:54</td><td>RETAIL</td><td>32748</td><td>32748</td><td>MCM0040279</td><td>ELVIS BENTO CAFE</td><td>IP0500615K</td><td>BRN</td><td>ELVIS BENTO CAFE</td><td>ACTIVE</td><td>ELVIS BENTO CAFE</td><td>2018</td><td>20210208_merchant</td><td>20210208</td><td>2021-02-09 02:00:58</td><td>others</td></tr>\n",
       "</table>\n"
      ],
      "text/plain": [
       "+------------------------+-----------------------------------------------------------------------------------------------------------------------+----------------+---------------------------+---------------------------+------------+-------------+------------+--------------------------------------+----------------------------------------------------------------+-----------------+--------------+----------------+-------------------+-------------------+-------------+-----------------------------------------------------------+-----------------+--------------+---------------+------------------+-------------+------------+---------------------------------+---------------+------------------+-----------------------+---------------+--------------------+-----------------------+----------------------+------------------------+----------------------+-------------------+---------------+-------------------+-----------------+-----------+--------------------+----------+--------------------------------------+-------------+------------------+--------------------------------------+--------+--------------------------------------+--------------------+-----------------+-----------------+-------------------+--------+\n",
       "|business_account_id     |account_description                                                                                                    |owner_contact_no|owner_email                |owner_fullname             |owner_id    |owner_id_type|account_type|account_unique_name                   |business_address1                                               |business_address2|business_city |business_country|business_postalcode|business_state     |business_type|mailing_address1                                           |mailing_address2 |mailing_city  |mailing_country|mailing_postalcode|mailing_state|mailing_type|bank_account_holder_name         |bank_account_no|bank_settlement_id|bank_settlement_id_type|bank_swift_code|business_category_id|business_category_level|business_category_name|business_profile_id     |created_by            |date_created       |modified_by    |date_modified      |merchant_category|merchant_id|original_merchant_id|identifier|q_registered_name                     |registered_id|registered_id_type|registered_name                       |status  |trading_name                          |year_of_incoporation|ops_filename     |ops_filename_date|ops_loaded_datetime|ops_type|\n",
       "+------------------------+-----------------------------------------------------------------------------------------------------------------------+----------------+---------------------------+---------------------------+------------+-------------+------------+--------------------------------------+----------------------------------------------------------------+-----------------+--------------+----------------+-------------------+-------------------+-------------+-----------------------------------------------------------+-----------------+--------------+---------------+------------------+-------------+------------+---------------------------------+---------------+------------------+-----------------------+---------------+--------------------+-----------------------+----------------------+------------------------+----------------------+-------------------+---------------+-------------------+-----------------+-----------+--------------------+----------+--------------------------------------+-------------+------------------+--------------------------------------+--------+--------------------------------------+--------------------+-----------------+-----------------+-------------------+--------+\n",
       "|5cf0845db5618f4208d45ca4|null                                                                                                                   |60192628813     |yaplipwei@gmail.com        |Yap Lip Wei                |831019145267|NEW_IC       |MERCHANT    |Yap Lip Wei                           |Grab Car @ Sepang                                               |null             |Sepang        |Malaysia        |64000              |Selangor           |BUSINESS     |No 33 Jalan 1/4 46000 Petaling Jaya Selangor               |null             |Petaling Jaya |Malaysia       |46000             |Selangor     |MAIL        |Yap Lip Wei                      |11403500613574 |831019145267      |NEW_IC                 |RHBBMYKL       |A1013               |1                      |Services              |5cf078c3b5618f4208d34ff0|Merchant Ops 6        |2018-07-02 09:07:12|Merchant Ops 6 |2018-07-02 09:07:12|INDIVIDUAL       |16721      |16721               |MCM0024252|YAP LIP WEI                           |831019145267 |NEW_IC            |Yap Lip Wei                           |ACTIVE  |WC8568F                               |2018                |20210208_merchant|20210208         |2021-02-09 02:00:58|others  |\n",
       "|5f4717865dc10c00017384de|null                                                                                                                   |60123037242     |luckygirl_8383@yahoo.com   |KRISHNA KUMARI A/P KRISHNAN|830103045248|NEW_IC       |MERCHANT    |KRISHNA KUMARI A/P KRISHNAN           |CHENG GARDEN AVENUE FOOD CENTRE JALAN SERI 7, CHENG             |null             |MELAKA        |MY              |75260              |Melaka             |BUSINESS     |NO.4, JALAN MURNI 17 TAMAN MALIM JAYA                      |null             |MELAKA        |MY             |75250             |Melaka       |MAIL        |KRISHNA KUMARI A/P KRISHNAN      |154062710275   |830103045248      |NEW_IC                 |MBBEMYKL       |A2028               |1.0                    |Food & Beverage       |5f471705f412b20001e95198|firdausnasha          |2020-08-27 02:16:38|firdausnasha   |2020-08-27 02:16:38|INDIVIDUAL       |99937      |99937               |MCM0107466|KRISHNA KUMARI A/P KRISHNAN           |830103045248 |NEW_IC            |KRISHNA KUMARI A/P KRISHNAN           |ACTIVE  |NASI LEMAK KUKUS BERLAUK              |2015                |20210208_merchant|20210208         |2021-02-09 02:00:58|others  |\n",
       "|5cf08467b5618f4208d46227|null                                                                                                                   |6017374165      |Awsrafarwen@gmail.com      |MOHD KHAREY BIN NOOH       |740317125359|NEW_IC       |MERCHANT    |MOHD KHAREY BIN NOOH                  |JALAN ILHAM U2/14 SEKSYEN U2 TAMAN TTDI JAYA                    |null             |Shah Alam     |Malaysia        |40150              |Selangor           |BUSINESS     |5D-01-35 JALAN ILHAM U2/14 SEKSYEN U2 TAMAN TTDI JAYA      |null             |Shah Alam     |Malaysia       |40150             |Selangor     |MAIL        |MOHD KHAREY BIN NOOH             |162478353117   |740317125359      |NEW_IC                 |MBBEMYKL       |A1001               |1                      |Food & Beverage       |5cf078ceb5618f4208d35806|Merchant Ops 1        |2018-07-24 09:07:22|Merchant Ops 1 |2018-07-24 09:07:22|INDIVIDUAL       |18812      |18812               |MCM0026343|MOHD KHAREY BIN NOOH                  |740317125359 |NEW_IC            |MOHD KHAREY BIN NOOH                  |ACTIVE  |NASI AYAM PENYET DAN BAKSO            |2018                |20210208_merchant|20210208         |2021-02-09 02:00:58|others  |\n",
       "|5cf083dab5618f4208d3cba5|14/12/2018 - inactive due unreachable, need merchant to provide new account details. as current bank account is closed.|60146667999     |uro2m.md@gmail.com         |MAS HAMDY BIN RAZALAN      |null        |null         |MERCHANT    |MHS SIZZLING RESOURCES                |NO 1-16 TINGKAT BAWAH RESIDENSI UTM KL, JALAN MAKTAB 54000 KUALA|null             |KUALA LUMPUR  |Malaysia        |54000              |Wilayah Persekutuan|BUSINESS     |NO 15 JALAN TP7/B TAMAN PERINDUSTRIAN UEP 47620 SUBANG JAYA|null             |SUBANG JAYA   |Malaysia       |47620             |Selangor     |MAIL        |MHS SIZZLING RESOURCES           |8603041669     |SA0430084T        |BRN                    |CIBBMYKL       |A1001               |1                      |Food & Beverage       |5cf07880b5618f4208d3182e|null                  |2017-11-30 03:11:08|null           |2018-12-15 05:12:18|RETAIL           |2400       |2400                |MCM0009931|MHS SIZZLING RESOURCES                |SA0430084T   |BRN               |MHS SIZZLING RESOURCES                |INACTIVE|MHS SIZZLING RESOURCES                |2016                |20210208_merchant|20210208         |2021-02-09 02:00:58|others  |\n",
       "|5cfaf88b0b85a05d89d350b6|null                                                                                                                   |60192469717     |esthertfl@gmail.com        |TAI PIANG SIN              |null        |null         |MERCHANT    |TPS AUTO ACCESSORIES & AIRCOND SERVICE|NO.561,JALAN IDAMAN 1,                                          |TAMAN DESA IDAMAN|DURIAN TUNGGAL|Malaysia        |76100              |Melaka             |BUSINESS     |NO.561,JALAN IDAMAN 1,                                     |TAMAN DESA IDAMAN|DURIAN TUNGGAL|Malaysia       |76100             |Melaka       |MAIL        |TPS AUTO ACCESSORIES & AIRCOND   |504124123080   |MA0169362W        |BRN                    |MBBEMYKL       |A2008               |1.0                    |Automotive            |5cfaf2220b85a05d89d34f08|Sundravarthan Muniandi|2019-06-03 02:06:41|dyleah         |2020-10-21 03:32:03|RETAIL           |48467      |48467               |MCM0055998|TPS AUTO ACCESSORIES & AIRCOND SERVICE|MA0169362W   |BRN               |TPS AUTO ACCESSORIES & AIRCOND SERVICE|ACTIVE  |TPS AUTO ACCESSORIES & AIRCOND SERVICE|2012                |20210208_merchant|20210208         |2021-02-09 02:00:58|others  |\n",
       "|5e708d4bcde0a700015b9cd0|null                                                                                                                   |601125485006    |tsauto28@yahoo.com         |NG KIM LENG                |701018065139|NEW_IC       |MERCHANT    |TECK SEONG AUTO TRADING SDN. BHD.     |LOT 308-311,JALAN DATO NGAU KEN LOCK                            |null             |TEMERLOH      |MY              |28000              |Pahang             |BUSINESS     |LOT 308-311,JALAN DATO NGAU KEN LOCK                       |null             |TEMERLOH      |MY             |28000             |Pahang       |MAIL        |TECK SEONG AUTO TRADING SDN. BHD.|556057502862   |940871W           |CRN                    |MBBEMYKL       |A2008               |1.0                    |Automotive            |5e708d0b607d9f00010e7eaf|nurindalilah          |2020-03-17 08:41:47|danielahmad    |2020-06-25 09:43:50|RETAIL           |78737      |78737               |MCM0086266|TECK SEONG AUTO TRADING SDN. BHD.     |940871W      |CRN               |TECK SEONG AUTO TRADING SDN. BHD.     |ACTIVE  |TECK SEONG AUTO TRADING SDN. BHD.     |2011                |20210208_merchant|20210208         |2021-02-09 02:00:58|sdn_bhd |\n",
       "|5cf083dbb5618f4208d3d3c8|null                                                                                                                   |60167710518     |tongjun531@gmail.com       |Beh Cheng Huat             |null        |null         |MERCHANT    |Hup Choon Sports                      |737, Jalan Kulim,                                               |null             |Bukit Mertajam|Malaysia        |14000              |Pulau Pinang       |BUSINESS     |737, Jalan Kulim,                                          |null             |Bukit Mertajam|Malaysia       |14000             |Pulau Pinang |MAIL        |Hup Choon Sports                 |3109486229     |PG0154028D        |BRN                    |PBBEMYKL       |A1010               |1                      |Others                |5cf07890b5618f4208d33202|Merchant Ops 5        |2018-04-05 08:04:25|Merchant Ops 5 |2018-04-05 08:04:25|RETAIL           |9023       |9023                |MCM0016554|HUP CHOON SPORTS                      |PG0154028D   |BRN               |Hup Choon Sports                      |ACTIVE  |Hup Choon Sports                      |1992                |20210208_merchant|20210208         |2021-02-09 02:00:58|others  |\n",
       "|5f3faab3ba11df000157a6f6|null                                                                                                                   |60126299808     |waikwanenterprise@gmail.com|CHOO KA WAI                |930325105881|NEW_IC       |MERCHANT    |WAI KWAN ENTERPRISE Locked control    |NO. 2, JALAN BAWAL 7, TAMAN MUTIARA                             |null             |TANJONG SEPAT |MY              |42800              |Selangor           |BUSINESS     |NO. 2, JALAN BAWAL 7, TAMAN MUTIARA                        |null             |TANJONG SEPAT |MY             |42800             |Selangor     |MAIL        |WAI KWAN ENTERPRISE              |514178638933   |002353197V        |BRN                    |MBBEMYKL       |A2012               |1.0                    |Buying/Retail Trade   |5f3faa46a7be010001999911|bazil                 |2020-08-21 11:06:27|bazil          |2020-08-21 11:10:08|RETAIL           |98750      |98750               |MCM0106279|WAI KWAN ENTERPRISE                   |002353197V   |BRN               |WAI KWAN ENTERPRISE                   |ACTIVE  |WAI KWAN ENTERPRISE                   |2014                |20210208_merchant|20210208         |2021-02-09 02:00:58|others  |\n",
       "|5f290619e196980001f893c4|null                                                                                                                   |60176239109     |farmasiubatku@gmail.com    |NURUL SYAMIMI BINTI SAHAROM|930312065606|NEW_IC       |MERCHANT    |SAMILIN ENTERPRISE                    |NO 9 JALAN CENGAL 2, TAMAN CENGAL                               |null             |TEMERLOH      |MY              |28000              |Pahang             |BUSINESS     |NO 9 JALAN CENGAL 2, TAMAN CENGAL                          |null             |TEMERLOH      |MY             |28000             |Pahang       |MAIL        |SAMILIN ENTERPRISE               |06028010070289 |CT0071290M        |BRN                    |BIMBMYKL       |A2012               |1.0                    |Buying/Retail Trade   |5f2905cc3f54770001652c98|allyanaziruddin       |2020-08-04 06:54:17|allyanaziruddin|2020-08-04 06:54:43|RETAIL           |95332      |95332               |MCM0102861|SAMILIN ENTERPRISE                    |CT0071290M   |BRN               |SAMILIN ENTERPRISE                    |ACTIVE  |FARMASI UBATKU                        |2020                |20210208_merchant|20210208         |2021-02-09 02:00:58|others  |\n",
       "|5cf08405b5618f4208d3fe72|null                                                                                                                   |60163333970     |elvisinlove@hotmail.com    |TEH YEW FEI                |null        |null         |MERCHANT    |ELVIS BENTO CAFE                      |PT NO. 140515                                                   |MUKIM HULU KINTA |IPOH          |Malaysia        |31650              |Perak              |BUSINESS     |PT NO. 140515                                              |MUKIM HULU KINTA |IPOH          |Malaysia       |31650             |Perak        |MAIL        |ELVIS BENTO CAFE                 |508038615289   |IP0500615K        |BRN                    |MBBEMYKL       |A2028               |1.0                    |Food & Beverage       |5cf07994b5618f4208d38d94|Merchant Ops 1        |2018-12-04 04:12:34|firdausnasha   |2020-10-27 02:26:54|RETAIL           |32748      |32748               |MCM0040279|ELVIS BENTO CAFE                      |IP0500615K   |BRN               |ELVIS BENTO CAFE                      |ACTIVE  |ELVIS BENTO CAFE                      |2018                |20210208_merchant|20210208         |2021-02-09 02:00:58|others  |\n",
       "+------------------------+-----------------------------------------------------------------------------------------------------------------------+----------------+---------------------------+---------------------------+------------+-------------+------------+--------------------------------------+----------------------------------------------------------------+-----------------+--------------+----------------+-------------------+-------------------+-------------+-----------------------------------------------------------+-----------------+--------------+---------------+------------------+-------------+------------+---------------------------------+---------------+------------------+-----------------------+---------------+--------------------+-----------------------+----------------------+------------------------+----------------------+-------------------+---------------+-------------------+-----------------+-----------+--------------------+----------+--------------------------------------+-------------+------------------+--------------------------------------+--------+--------------------------------------+--------------------+-----------------+-----------------+-------------------+--------+"
      ]
     },
     "execution_count": 7,
     "metadata": {},
     "output_type": "execute_result"
    }
   ],
   "source": [
    "data_sdf.orderBy(F.rand()).limit(10)"
   ]
  },
  {
   "cell_type": "code",
   "execution_count": null,
   "metadata": {},
   "outputs": [],
   "source": []
  }
 ],
 "metadata": {
  "kernelspec": {
   "display_name": "Python 3",
   "language": "python",
   "name": "python3"
  },
  "language_info": {
   "codemirror_mode": {
    "name": "ipython",
    "version": 3
   },
   "file_extension": ".py",
   "mimetype": "text/x-python",
   "name": "python",
   "nbconvert_exporter": "python",
   "pygments_lexer": "ipython3",
   "version": "3.8.6"
  },
  "toc-autonumbering": true,
  "toc-showmarkdowntxt": false
 },
 "nbformat": 4,
 "nbformat_minor": 4
}

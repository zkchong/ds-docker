{
 "cells": [
  {
   "cell_type": "markdown",
   "id": "scientific-addiction",
   "metadata": {},
   "source": [
    "# Description\n",
    "This NB will run the unit test for s3fs.\n",
    "\n",
    "The s3fs mounted folders are:\n",
    "- adc-ds-data\n",
    "- adc-ds-dev\n",
    "- adc-ds-factdata\n",
    "- adc-ds-lms\n",
    "\n",
    "\n",
    "At this moment, I think we can only test to list the files in these buckets."
   ]
  },
  {
   "cell_type": "markdown",
   "id": "resident-validation",
   "metadata": {},
   "source": [
    "# Test"
   ]
  },
  {
   "cell_type": "code",
   "execution_count": 1,
   "id": "handed-thailand",
   "metadata": {},
   "outputs": [],
   "source": [
    "import os\n",
    "from pathlib import Path\n"
   ]
  },
  {
   "cell_type": "code",
   "execution_count": 2,
   "id": "sophisticated-tsunami",
   "metadata": {},
   "outputs": [
    {
     "output_type": "execute_result",
     "data": {
      "text/plain": [
       "'/home/alvin.tan'"
      ]
     },
     "metadata": {},
     "execution_count": 2
    }
   ],
   "source": [
    "home = str(Path.home() )\n",
    "home"
   ]
  },
  {
   "cell_type": "code",
   "execution_count": null,
   "id": "surrounded-serve",
   "metadata": {},
   "outputs": [],
   "source": [
    "bucket_list = ['adc-ds-data', 'adc-ds-dev', 'adc-ds-factdata', 'adc-ds-lms']\n",
    "base_path = str(Path.home()) + '/s3/'\n"
   ]
  },
  {
   "cell_type": "code",
   "execution_count": null,
   "id": "hidden-closing",
   "metadata": {},
   "outputs": [],
   "source": [
    "for bucket_name in bucket_list:\n",
    "    s3_path = os.path.join(base_path, bucket_name)\n",
    "    file_list = os.listdir(s3_path)\n",
    "    print('s3_path=%s, total_files=%d' % (s3_path, len(file_list)) )\n",
    "    #\n",
    "    assert (len(file_list) > 0 )"
   ]
  },
  {
   "cell_type": "markdown",
   "id": "unexpected-uniform",
   "metadata": {},
   "source": [
    "# Completion"
   ]
  },
  {
   "cell_type": "code",
   "execution_count": null,
   "id": "unsigned-queens",
   "metadata": {},
   "outputs": [],
   "source": [
    "import datetime\n",
    "str( datetime.datetime.now() )\n"
   ]
  }
 ],
 "metadata": {
  "kernelspec": {
   "display_name": "Python 3",
   "language": "python",
   "name": "python3"
  },
  "language_info": {
   "codemirror_mode": {
    "name": "ipython",
    "version": 3
   },
   "file_extension": ".py",
   "mimetype": "text/x-python",
   "name": "python",
   "nbconvert_exporter": "python",
   "pygments_lexer": "ipython3",
   "version": "3.8.5"
  },
  "toc-autonumbering": true
 },
 "nbformat": 4,
 "nbformat_minor": 5
}
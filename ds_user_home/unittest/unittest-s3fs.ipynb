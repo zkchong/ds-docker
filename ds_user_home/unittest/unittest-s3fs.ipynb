{
 "cells": [
  {
   "cell_type": "markdown",
   "id": "scientific-addiction",
   "metadata": {},
   "source": [
    "# Description\n",
    "This NB will run the unit test for s3fs.\n",
    "\n",
    "The s3fs mounted folders are:\n",
    "- adc-ds-data\n",
    "- adc-ds-dev\n",
    "- adc-ds-factdata\n",
    "- adc-ds-lms\n",
    "\n",
    "\n",
    "At this moment, I think we can only test to list the files in these buckets."
   ]
  },
  {
   "cell_type": "markdown",
   "id": "resident-validation",
   "metadata": {},
   "source": [
    "# Test"
   ]
  },
  {
   "cell_type": "code",
   "execution_count": 1,
   "id": "sophisticated-tsunami",
   "metadata": {},
   "outputs": [
    {
     "ename": "NameError",
     "evalue": "name 'Path' is not defined",
     "output_type": "error",
     "traceback": [
      "\u001b[0;31m---------------------------------------------------------------------------\u001b[0m",
      "\u001b[0;31mNameError\u001b[0m                                 Traceback (most recent call last)",
      "\u001b[0;32m<ipython-input-1-e2c39dbe706c>\u001b[0m in \u001b[0;36m<module>\u001b[0;34m\u001b[0m\n\u001b[0;32m----> 1\u001b[0;31m \u001b[0mhome\u001b[0m \u001b[0;34m=\u001b[0m \u001b[0mstr\u001b[0m\u001b[0;34m(\u001b[0m\u001b[0mPath\u001b[0m\u001b[0;34m.\u001b[0m\u001b[0mhome\u001b[0m\u001b[0;34m(\u001b[0m\u001b[0;34m)\u001b[0m \u001b[0;34m)\u001b[0m\u001b[0;34m\u001b[0m\u001b[0;34m\u001b[0m\u001b[0m\n\u001b[0m\u001b[1;32m      2\u001b[0m \u001b[0mhome\u001b[0m\u001b[0;34m\u001b[0m\u001b[0;34m\u001b[0m\u001b[0m\n",
      "\u001b[0;31mNameError\u001b[0m: name 'Path' is not defined"
     ]
    }
   ],
   "source": [
    "home = str(Path.home() )\n",
    "home"
   ]
  },
  {
   "cell_type": "code",
   "execution_count": null,
   "id": "handed-thailand",
   "metadata": {},
   "outputs": [],
   "source": [
    "import os\n",
    "from pathlib import Path\n"
   ]
  },
  {
   "cell_type": "code",
   "execution_count": null,
   "id": "surrounded-serve",
   "metadata": {},
   "outputs": [],
   "source": [
    "bucket_list = ['adc-ds-data', 'adc-ds-dev', 'adc-ds-factdata', 'adc-ds-lms']\n",
    "base_path = str(Path.home()) + '/s3/'\n"
   ]
  },
  {
   "cell_type": "code",
   "execution_count": null,
   "id": "hidden-closing",
   "metadata": {},
   "outputs": [],
   "source": [
    "for bucket_name in bucket_list:\n",
    "    s3_path = os.path.join(base_path, bucket_name)\n",
    "    file_list = os.listdir(s3_path)\n",
    "    print('s3_path=%s, total_files=%d' % (s3_path, len(file_list)) )\n",
    "    #\n",
    "    assert (len(file_list) > 0 )"
   ]
  },
  {
   "cell_type": "markdown",
   "id": "unexpected-uniform",
   "metadata": {},
   "source": [
    "# Completion"
   ]
  },
  {
   "cell_type": "code",
   "execution_count": null,
   "id": "unsigned-queens",
   "metadata": {},
   "outputs": [],
   "source": [
    "import datetime\n",
    "str( datetime.datetime.now() )\n"
   ]
  }
 ],
 "metadata": {
  "kernelspec": {
   "display_name": "Python 3",
   "language": "python",
   "name": "python3"
  },
  "language_info": {
   "codemirror_mode": {
    "name": "ipython",
    "version": 3
   },
   "file_extension": ".py",
   "mimetype": "text/x-python",
   "name": "python",
   "nbconvert_exporter": "python",
   "pygments_lexer": "ipython3",
   "version": "3.8.6"
  },
  "toc-autonumbering": true
 },
 "nbformat": 4,
 "nbformat_minor": 5
}
